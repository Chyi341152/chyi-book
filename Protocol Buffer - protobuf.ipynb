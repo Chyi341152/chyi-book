{
 "cells": [
  {
   "cell_type": "markdown",
   "metadata": {},
   "source": [
    "## protobuf. Installation and Python3 support \n",
    "++ Protocol Buffers is a way to serialize structured data into a binary stream in a fast and efficient manager.\n",
    "++ Machine communication, RPC(remote procedure calls)\n",
    "\n",
    "### 1. First of all \n",
    "$ sudo apt-get install autoconf automake libtool \n",
    "$ wget https://github.com/google/protobuf/releases/tag/v3.5.1\n",
    "$ cd protobuf folder \n",
    "$ ./autogen.sh \n",
    "$ ./configure \n",
    "$ make \n",
    "$ make check \n",
    "$ make install \n",
    "-- Protobuf cannot find shared libraries?\n",
    "++ $ sudo ldconfig \n",
    "\n",
    "Check protoc available for you from command line \n",
    "++ protoc (standing for Protocol buffers compiler)\n",
    "$ protoc --version \n",
    "\n",
    "OR Install protobuf \n",
    "\n",
    "Make sure you grab the latest version\n",
    "$ curl -OL https://github.com/google/protobuf/releases/download/v3.2.0/protoc-3.2.0-linux-x86_64.zip\n",
    "\n",
    "Unzip\n",
    "$ unzip protoc-3.2.0-linux-x86_64.zip -d protoc3\n",
    "\n",
    "Move protoc to /usr/local/bin/\n",
    "$ sudo mv protoc3/bin/* /usr/local/bin/\n",
    "\n",
    "Move protoc3/include to /usr/local/include/\n",
    "$ sudo mv protoc3/include/* /usr/local/include/\n",
    "\n",
    "Optional: change owner\n",
    "$ sudo chwon [user] /usr/local/bin/protoc\n",
    "$ sudo chwon -R [user] /usr/local/include/google\n",
    "\n",
    "### 2. Protocol Buffers Basics: Python\n",
    "++ Protocol buffers are a language-neutral, platform-neutral extensible mechanism for serializing structured data.\n",
    "\n",
    "### 3. Compiling Your Protocol Buffers \n",
    "++ $ protoc -I ./SRC_DIR --python_out ./DST_DIR ./SRC_DIR/addressbook.proto # --python_out option - \n",
    "++ This generates addressbook_pb2.py in your specified destination directory \n",
    "++ Python protocol buffer compiler doesn't generate your data access code for your directly \n",
    "\n"
   ]
  },
  {
   "cell_type": "code",
   "execution_count": 1,
   "metadata": {},
   "outputs": [
    {
     "name": "stdout",
     "output_type": "stream",
     "text": [
      "// Comments\r\n",
      "// [START declaration]\r\n",
      "syntax = \"proto3\";\r\n",
      "package tutorial; // which helps to prevent naming conflicts between different projects\r\n",
      "\r\n",
      "import \"google/protobuf/timestamp.proto\";\r\n",
      "// [END declaration]\r\n",
      "\r\n",
      "// [START messages]\r\n",
      "message Person {\r\n",
      "\t// The \"=1\",\"=2\" markers on each element identify the unique \"tag\" that filed uses in the binary encoding;[1-15]require one less,[16-:]for less-commonly\r\n",
      "\tstring name = 1;\r\n",
      "\tint32 id = 2; // Unique ID number for this person.\r\n",
      "\tstring email = 3;\r\n",
      "\r\n",
      "\tenum PhoneType {\r\n",
      "\t\tMOBILE = 0;\r\n",
      "\t\tHOME = 1;\r\n",
      "\t\tWORK = 2;\r\n",
      "\t}\r\n",
      "\t\r\n",
      "\tmessage PhoneNumber {\r\n",
      "\t\tstring number = 1;\r\n",
      "\t\tPhoneType type = 2;\r\n",
      "\t}\r\n",
      "\r\n",
      "\trepeated PhoneNumber phones = 4;\r\n",
      "\r\n",
      "\tgoogle.protobuf.Timestamp last_updated = 5;\r\n",
      "\r\n",
      "}\r\n",
      "\r\n",
      "// Our address book file is just one of these. \r\n",
      "message AddressBook {\r\n",
      "\trepeated Person people = 1;\t\r\n",
      "}\r\n",
      "// [END messages]\r\n"
     ]
    }
   ],
   "source": [
    "# Protocol bufferes are a language-neutral, platform-neutral, extensible mechanism of serializing structured data\n",
    "# example a person.proto file \n",
    "!cat proto_SRC_DIR/addressbook.proto"
   ]
  },
  {
   "cell_type": "code",
   "execution_count": 12,
   "metadata": {},
   "outputs": [
    {
     "name": "stdout",
     "output_type": "stream",
     "text": [
      "\n",
      "\u000fStephen Hawking\u0010���\t\u001a\u0018StephenHawking@gmail.com\n",
      "person.name Stephen Hawking\n",
      "person.id 20180314\n",
      "person.email StephenHawking@gmail.com\n"
     ]
    }
   ],
   "source": [
    "from proto_DST_DIR import addressbook_pb2\n",
    "\n",
    "person = addressbook_pb2.Person()\n",
    "person.name = 'Stephen Hawking'\n",
    "person.id = 20180314\n",
    "person.email = 'StephenHawking@gmail.com'\n",
    "person.PhoneNumber.number = '15083000888'\n",
    "person.PhoneNumber.type = 0\n",
    "\n",
    "# write the protobuf stream on a binary file on disk \n",
    "with open('person.bin', 'wb') as f:\n",
    "    f.write(person.SerializeToString())\n",
    "\n",
    "!cat person.bin    \n",
    "\n",
    "# read the data back to Python \n",
    "with open('person.bin', 'rb') as f:\n",
    "    person = addressbook_pb2.Person()\n",
    "    person.ParseFromString(f.read())\n",
    "    print('\\nperson.name',person.name)\n",
    "    print('person.id', person.id)\n",
    "    print('person.email', person.email)"
   ]
  },
  {
   "cell_type": "code",
   "execution_count": null,
   "metadata": {},
   "outputs": [],
   "source": []
  }
 ],
 "metadata": {
  "kernelspec": {
   "display_name": "Python 3",
   "language": "python",
   "name": "python3"
  },
  "language_info": {
   "codemirror_mode": {
    "name": "ipython",
    "version": 3
   },
   "file_extension": ".py",
   "mimetype": "text/x-python",
   "name": "python",
   "nbconvert_exporter": "python",
   "pygments_lexer": "ipython3",
   "version": "3.5.2"
  }
 },
 "nbformat": 4,
 "nbformat_minor": 2
}
