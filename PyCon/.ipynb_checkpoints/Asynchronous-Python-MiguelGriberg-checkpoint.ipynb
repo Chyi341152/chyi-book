{
 "cells": [
  {
   "cell_type": "code",
   "execution_count": 1,
   "metadata": {},
   "outputs": [],
   "source": [
    "# Multiple Processes \n",
    "# The OS does all the multi-tasking works\n",
    "# Only option for multi-core concurrency\n",
    "\n",
    "# Multiple Threads\n",
    "# The OS does all the multi-tasking work \n",
    "# In CPython, the GIL prevents multi-core concurrency \n",
    "# Threads all share access to common resources\n",
    "\n",
    "# Asynchronous Programming \n",
    "# No OS Intervention\n",
    "# One process, one thread \n",
    "# A practical definition of Async...\n",
    "# \"A style of concurrent programming in which tasks release the CPU during waitting periods, so that other tasks can use it.\"\n",
    "\n",
    "# 1. Suspend and Resume \n",
    "# Async functions need the ability to suspend and resume \n",
    "# A function that enters a waiting period is suspended,and only resumed when the wait is over\n",
    "# Four ways to implement suspend/resume in Python \n",
    "# - Callback functions \n",
    "# - Generator functions \n",
    "# - Async/await(Python 3.5+)\n",
    "# - Greenlets(requires greenlet package)\n",
    "\n",
    "# 2. Scheduling Asynchronous Tasks \n",
    "# Async frameworks need a scheduler, usually called \"event loop\"\n",
    "# The loop keeps track of all the running tasks \n",
    "# When a function is suspended, return controls to the loop, which then finds another function to start or resume \n",
    "# This is called \"cooperative multi-tasking\"\n",
    "\n",
    "# GitHub: https://gist.github.com/miguelgrinberg/f15bc03471f610cfebeba62438435508\n"
   ]
  },
  {
   "cell_type": "code",
   "execution_count": 3,
   "metadata": {},
   "outputs": [
    {
     "name": "stdout",
     "output_type": "stream",
     "text": [
      "Hello\n",
      "World\n"
     ]
    }
   ],
   "source": [
    "# Example: Standard (Synchronous) Python \n",
    "# Print \"hello\", wait three seconds, then print \"world\"\n",
    "\n",
    "from time import sleep \n",
    "\n",
    "def hello():\n",
    "    print(\"Hello\")\n",
    "    sleep(3)\n",
    "    print('World')\n",
    "\n",
    "if __name__ == '__main__':\n",
    "    hello()"
   ]
  },
  {
   "cell_type": "code",
   "execution_count": 5,
   "metadata": {},
   "outputs": [
    {
     "name": "stdout",
     "output_type": "stream",
     "text": [
      "Hello\n",
      "World!\n"
     ]
    }
   ],
   "source": [
    "# Example Asyncio\n",
    "\n",
    "import asyncio\n",
    "\n",
    "loop = asyncio.get_event_loop()\n",
    "\n",
    "@asyncio.coroutine\n",
    "def hello():\n",
    "    print(\"Hello\")\n",
    "    # Generator functions\n",
    "    yield from asyncio.sleep(3)\n",
    "    print('World!')\n",
    "\n",
    "if __name__ == '__main__':\n",
    "    loop.run_until_complete(hello())"
   ]
  },
  {
   "cell_type": "code",
   "execution_count": 7,
   "metadata": {},
   "outputs": [
    {
     "name": "stdout",
     "output_type": "stream",
     "text": [
      "Hello\n",
      "World!\n"
     ]
    }
   ],
   "source": [
    "# Example Asyncio\n",
    "\n",
    "import asyncio\n",
    "\n",
    "loop = asyncio.get_event_loop()\n",
    "\n",
    "async def hello():\n",
    "    print(\"Hello\")\n",
    "    # \n",
    "    await asyncio.sleep(3)\n",
    "    print('World!')\n",
    "\n",
    "if __name__ == '__main__':\n",
    "    loop.run_until_complete(hello())"
   ]
  },
  {
   "cell_type": "code",
   "execution_count": 8,
   "metadata": {},
   "outputs": [],
   "source": [
    "# CPU Heavy Tasks\n",
    "# Long CPU-intensive tasks must routinely release the CPU to avoid starving other tasks \n",
    "# This can be done by \"\"Sleeping\" periodically, such as once per loop iteration \n",
    "# To tell the loop to return control back as soon as possible, sleep for 0 seconds \n",
    "# Example: await asyncio.sleep(0)\n",
    "\n",
    "# Async and the Python Standard Library \n",
    "# Blocking library functions are incompatible with async frameworks\n",
    "#     socket.*, select.*, subprocess.*, os.waitpid, threading.*, multiprocessing.*, time.sleep\n",
    "# All async frameworks provide non-blocking replacements for these \n",
    "# Eventlet and Gevent can \"monkey-patch\" the standard library to make it async compatible"
   ]
  },
  {
   "cell_type": "markdown",
   "metadata": {},
   "source": []
  }
 ],
 "metadata": {
  "kernelspec": {
   "display_name": "Python 3",
   "language": "python",
   "name": "python3"
  },
  "language_info": {
   "codemirror_mode": {
    "name": "ipython",
    "version": 3
   },
   "file_extension": ".py",
   "mimetype": "text/x-python",
   "name": "python",
   "nbconvert_exporter": "python",
   "pygments_lexer": "ipython3",
   "version": "3.5.2"
  }
 },
 "nbformat": 4,
 "nbformat_minor": 2
}
