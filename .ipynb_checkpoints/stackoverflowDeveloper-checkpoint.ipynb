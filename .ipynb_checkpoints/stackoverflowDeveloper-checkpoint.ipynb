{
 "cells": [
  {
   "cell_type": "markdown",
   "metadata": {},
   "source": [
    "# 1. Python: Pass or Sleep for long running processes?"
   ]
  },
  {
   "cell_type": "code",
   "execution_count": null,
   "metadata": {},
   "outputs": [],
   "source": [
    "# Questions?\n",
    "\n",
    "while True:\n",
    "    pass # Using pass will cause the loop to immediately re-evaluate and peg the CPU \n",
    "# 90%-100% CPU instantly \n",
    "# OR\n",
    "while True:\n",
    "    time.sleep(1)\n",
    "# Which one will have the least impact on a system? What is the preferred way to do nothing, but keep a Python app running?\n",
    "\n",
    "# Answer\n"
   ]
  }
 ],
 "metadata": {
  "kernelspec": {
   "display_name": "Python 3",
   "language": "python",
   "name": "python3"
  },
  "language_info": {
   "codemirror_mode": {
    "name": "ipython",
    "version": 3
   },
   "file_extension": ".py",
   "mimetype": "text/x-python",
   "name": "python",
   "nbconvert_exporter": "python",
   "pygments_lexer": "ipython3",
   "version": "3.5.2"
  }
 },
 "nbformat": 4,
 "nbformat_minor": 2
}
