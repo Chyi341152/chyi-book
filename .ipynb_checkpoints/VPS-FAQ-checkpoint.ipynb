{
 "cells": [
  {
   "cell_type": "code",
   "execution_count": null,
   "metadata": {},
   "outputs": [],
   "source": [
    "# 1. How do I change the time zone of My VPS?\n",
    "# $ sudo dpkg-reconfigure tzdata\n",
    "\n",
    "# 2. How can I execute command on startup (rc.local alternative) on Ubuntu 16.10 \n",
    "# Ubuntu 16.10 doesn't uses rc.local anymore instead uses systemd. What is the alternative for rc.local\n",
    "\n",
    "# 3. How to start ipython notebook server at boot as daemon \n",
    "    "
   ]
  }
 ],
 "metadata": {
  "kernelspec": {
   "display_name": "Python 3",
   "language": "python",
   "name": "python3"
  },
  "language_info": {
   "codemirror_mode": {
    "name": "ipython",
    "version": 3
   },
   "file_extension": ".py",
   "mimetype": "text/x-python",
   "name": "python",
   "nbconvert_exporter": "python",
   "pygments_lexer": "ipython3",
   "version": "3.5.2"
  }
 },
 "nbformat": 4,
 "nbformat_minor": 2
}
