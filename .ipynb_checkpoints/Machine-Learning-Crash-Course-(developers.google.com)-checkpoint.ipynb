{
 "cells": [
  {
   "cell_type": "code",
   "execution_count": 1,
   "metadata": {},
   "outputs": [],
   "source": [
    "# 机器学习速成课程\n",
    "# 前提条件和准备工作\n",
    "# 机器学习速成课程中的Tensorflow高阶tf.estimator API, 学习低级TensorFlow\n"
   ]
  },
  {
   "cell_type": "code",
   "execution_count": 3,
   "metadata": {},
   "outputs": [
    {
     "name": "stdout",
     "output_type": "stream",
     "text": [
      "b'Hello, world!'\n"
     ]
    }
   ],
   "source": [
    "## TensorFlow Hello World \n",
    "# HelloWorld.py \n",
    "import tensorflow as tf \n",
    "\n",
    "c = tf.constant('Hello, world!')\n",
    "with tf.Session() as sess:\n",
    "    print(sess.run(c))"
   ]
  },
  {
   "cell_type": "code",
   "execution_count": null,
   "metadata": {},
   "outputs": [],
   "source": [
    "# TensorFlow 编程概念\n",
    "# 张量 -- 任意维度的数组\n",
    "# 标量 -- 零纬数组（零阶张量） 例如：‘Howday’\n",
    "# 矢量 -- 一维数组 (一阶张量) 例如： [2,3,4,5]\n",
    "# 矩阵 -- 二维数组 （二阶张量）例如：[[3., 8.2, 5.9][4.3,-2.7,6.5]]\n",
    "# 指令 -- 图的节点是指令\n",
    "# 图   -- 计算图或数据流图 是一种图数据结构，\n",
    "# 会话\n",
    "# 常量和变量都只是图中的一种指令，常量是始终返回同一张量值的指令，变量是会返回分配给它的任何张量的指令\n",
    "\n",
    "import tensorflow as tf \n",
    "\n",
    "x = tf.constant([5.2]) # 定义常量\n",
    "y = tf.Variable([5])   # 创建变量-需要指定默认值\n",
    "y = y.assign([5])      # 分配值"
   ]
  }
 ],
 "metadata": {
  "kernelspec": {
   "display_name": "Python 3",
   "language": "python",
   "name": "python3"
  },
  "language_info": {
   "codemirror_mode": {
    "name": "ipython",
    "version": 3
   },
   "file_extension": ".py",
   "mimetype": "text/x-python",
   "name": "python",
   "nbconvert_exporter": "python",
   "pygments_lexer": "ipython3",
   "version": "3.5.2"
  }
 },
 "nbformat": 4,
 "nbformat_minor": 2
}
